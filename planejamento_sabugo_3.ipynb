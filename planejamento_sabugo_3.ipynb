{
 "cells": [
  {
   "cell_type": "code",
   "execution_count": 74,
   "metadata": {},
   "outputs": [],
   "source": [
    "import pandas as pd\n",
    "import numpy as np\n",
    "import matplotlib.pyplot as plt\n",
    "import sklearn as sk\n",
    "import statsmodels.api as sm\n",
    "import statsmodels.formula.api as smf\n",
    "from scipy.optimize import curve_fit\n",
    "from sklearn.neural_network import MLPRegressor\n",
    "from sklearn.metrics import mean_squared_error\n",
    "from sklearn.metrics import r2_score "
   ]
  },
  {
   "cell_type": "code",
   "execution_count": 75,
   "metadata": {},
   "outputs": [
    {
     "name": "stdout",
     "output_type": "stream",
     "text": [
      "     r             m             v           s          Y\n",
      "0 -1.0 -9.999999e-01 -9.999999e-01  156.472416  95.797405\n",
      "1 -1.0 -9.999999e-01  1.000000e-07  156.399340  95.752665\n",
      "2 -1.0 -9.999999e-01  1.000000e+00  158.236542  96.877459\n",
      "3 -1.0  1.000000e-07 -9.999999e-01  156.471850  95.797058\n",
      "4 -1.0  1.000000e-07  1.000000e-07  155.374445  95.125192\n"
     ]
    }
   ],
   "source": [
    "plan=pd.read_csv('planejamento_3_sabugo.csv')\n",
    "print(plan.head())"
   ]
  },
  {
   "cell_type": "code",
   "execution_count": 76,
   "metadata": {},
   "outputs": [
    {
     "data": {
      "text/plain": [
       "<Figure size 432x288 with 0 Axes>"
      ]
     },
     "metadata": {},
     "output_type": "display_data"
    },
    {
     "data": {
      "image/png": "[encoded data removed]",
      "text/plain": [
       "<Figure size 1080x360 with 3 Axes>"
      ]
     },
     "metadata": {
      "needs_background": "light"
     },
     "output_type": "display_data"
    }
   ],
   "source": [
    "x1=plan['r']\n",
    "x2=plan['m']\n",
    "x3=plan['v']\n",
    "y=plan['s']\n",
    "\n",
    "fig = plt.figure()\n",
    "fig, (ax1, ax2, ax3) = plt.subplots(1, 3, figsize=(15, 5), sharey=False)\n",
    "\n",
    "ax1.scatter(x1, y, color='tab:blue')\n",
    "ax2.scatter(x2, y, color='tab:blue')\n",
    "ax3.scatter(x3, y, color='tab:blue')\n",
    "\n",
    "plt.show()"
   ]
  },
  {
   "cell_type": "code",
   "execution_count": 77,
   "metadata": {},
   "outputs": [
    {
     "name": "stdout",
     "output_type": "stream",
     "text": [
      "                            OLS Regression Results                            \n",
      "==============================================================================\n",
      "Dep. Variable:                      s   R-squared:                       0.999\n",
      "Model:                            OLS   Adj. R-squared:                  0.999\n",
      "Method:                 Least Squares   F-statistic:                     2981.\n",
      "Date:                Sat, 16 Nov 2019   Prob (F-statistic):           2.24e-25\n",
      "Time:                        21:44:48   Log-Likelihood:                -72.354\n",
      "No. Observations:                  27   AIC:                             164.7\n",
      "Df Residuals:                      17   BIC:                             177.7\n",
      "Df Model:                           9                                         \n",
      "Covariance Type:            nonrobust                                         \n",
      "===============================================================================\n",
      "                  coef    std err          t      P>|t|      [0.025      0.975]\n",
      "-------------------------------------------------------------------------------\n",
      "Intercept     354.6388      2.264    156.632      0.000     349.862     359.416\n",
      "r             170.6461      1.048    162.815      0.000     168.435     172.857\n",
      "m             -10.9458      1.048    -10.443      0.000     -13.157      -8.734\n",
      "v               2.3120      1.048      2.206      0.041       0.101       4.523\n",
      "I(r ** 2.0)   -22.6483      1.815    -12.476      0.000     -26.478     -18.818\n",
      "I(m ** 2.0)    -9.0146      1.815     -4.966      0.000     -12.845      -5.184\n",
      "I(v ** 2.0)    -3.0775      1.815     -1.695      0.108      -6.908       0.753\n",
      "I(r * m)       -5.4585      1.284     -4.252      0.001      -8.167      -2.750\n",
      "I(r * v)        1.7410      1.284      1.356      0.193      -0.967       4.449\n",
      "I(m * v)       -1.9560      1.284     -1.524      0.146      -4.664       0.752\n",
      "==============================================================================\n",
      "Omnibus:                        5.930   Durbin-Watson:                   2.527\n",
      "Prob(Omnibus):                  0.052   Jarque-Bera (JB):                4.053\n",
      "Skew:                           0.741   Prob(JB):                        0.132\n",
      "Kurtosis:                       4.186   Cond. No.                         5.23\n",
      "==============================================================================\n",
      "\n",
      "Warnings:\n",
      "[1] Standard Errors assume that the covariance matrix of the errors is correctly specified.\n"
     ]
    }
   ],
   "source": [
    "#regressão\n",
    "formula='s ~ r+m+v+I(r**2.0)+I(m**2.0)+I(v**2.0)+I(r*m)+I(r*v)+I(m*v)'\n",
    "est = smf.ols(formula, data=plan).fit()\n",
    "print(est.summary())"
   ]
  },
  {
   "cell_type": "code",
   "execution_count": 78,
   "metadata": {},
   "outputs": [],
   "source": [
    "pred_val = est.fittedvalues.copy()\n",
    "true_val = plan['s'].values.copy()\n",
    "residual = true_val - pred_val"
   ]
  },
  {
   "cell_type": "code",
   "execution_count": 79,
   "metadata": {},
   "outputs": [
    {
     "data": {
      "text/plain": [
       "<matplotlib.collections.PathCollection at 0x24b4a8a02c8>"
      ]
     },
     "execution_count": 79,
     "metadata": {},
     "output_type": "execute_result"
    },
    {
     "data": {
      "image/png": "[encoded data removed]",
      "text/plain": [
       "<Figure size 432x432 with 1 Axes>"
      ]
     },
     "metadata": {
      "needs_background": "light"
     },
     "output_type": "display_data"
    }
   ],
   "source": [
    "fig, ax = plt.subplots(figsize=(6,6))\n",
    "ax.scatter(residual, pred_val)"
   ]
  },
  {
   "cell_type": "code",
   "execution_count": 80,
   "metadata": {},
   "outputs": [
    {
     "name": "stdout",
     "output_type": "stream",
     "text": [
      "                            OLS Regression Results                            \n",
      "==============================================================================\n",
      "Dep. Variable:                      s   R-squared:                       0.999\n",
      "Model:                            OLS   Adj. R-squared:                  0.999\n",
      "Method:                 Least Squares   F-statistic:                     3720.\n",
      "Date:                Sat, 16 Nov 2019   Prob (F-statistic):           2.18e-29\n",
      "Time:                        21:44:48   Log-Likelihood:                -77.030\n",
      "No. Observations:                  27   AIC:                             168.1\n",
      "Df Residuals:                      20   BIC:                             177.1\n",
      "Df Model:                           6                                         \n",
      "Covariance Type:            nonrobust                                         \n",
      "===============================================================================\n",
      "                  coef    std err          t      P>|t|      [0.025      0.975]\n",
      "-------------------------------------------------------------------------------\n",
      "Intercept     352.5871      2.098    168.079      0.000     348.211     356.963\n",
      "r             170.6461      1.149    148.519      0.000     168.249     173.043\n",
      "m             -10.9458      1.149     -9.527      0.000     -13.343      -8.549\n",
      "v               2.3120      1.149      2.012      0.058      -0.085       4.709\n",
      "I(r ** 2.0)   -22.6483      1.990    -11.381      0.000     -26.800     -18.497\n",
      "I(m ** 2.0)    -9.0146      1.990     -4.530      0.000     -13.166      -4.863\n",
      "I(r * m)       -5.4585      1.407     -3.879      0.001      -8.394      -2.523\n",
      "==============================================================================\n",
      "Omnibus:                        4.897   Durbin-Watson:                   2.542\n",
      "Prob(Omnibus):                  0.086   Jarque-Bera (JB):                3.640\n",
      "Skew:                           0.410   Prob(JB):                        0.162\n",
      "Kurtosis:                       4.601   Cond. No.                         4.24\n",
      "==============================================================================\n",
      "\n",
      "Warnings:\n",
      "[1] Standard Errors assume that the covariance matrix of the errors is correctly specified.\n"
     ]
    }
   ],
   "source": [
    "formula='s ~ r+m+v+I(r**2.0)+I(m**2.0)+I(r*m)'\n",
    "est = smf.ols(formula, data=plan).fit()\n",
    "print(est.summary())"
   ]
  },
  {
   "cell_type": "code",
   "execution_count": 81,
   "metadata": {},
   "outputs": [
    {
     "name": "stdout",
     "output_type": "stream",
     "text": [
      "                            OLS Regression Results                            \n",
      "==============================================================================\n",
      "Dep. Variable:                      s   R-squared:                       0.987\n",
      "Model:                            OLS   Adj. R-squared:                  0.987\n",
      "Method:                 Least Squares   F-statistic:                     1970.\n",
      "Date:                Sat, 16 Nov 2019   Prob (F-statistic):           2.66e-25\n",
      "Time:                        21:44:48   Log-Likelihood:                -112.65\n",
      "No. Observations:                  27   AIC:                             229.3\n",
      "Df Residuals:                      25   BIC:                             231.9\n",
      "Df Model:                           1                                         \n",
      "Covariance Type:            nonrobust                                         \n",
      "==============================================================================\n",
      "                 coef    std err          t      P>|t|      [0.025      0.975]\n",
      "------------------------------------------------------------------------------\n",
      "Intercept    331.4785      3.139    105.601      0.000     325.014     337.943\n",
      "r            170.6461      3.844     44.388      0.000     162.728     178.564\n",
      "==============================================================================\n",
      "Omnibus:                        0.460   Durbin-Watson:                   0.653\n",
      "Prob(Omnibus):                  0.794   Jarque-Bera (JB):                0.569\n",
      "Skew:                          -0.053   Prob(JB):                        0.752\n",
      "Kurtosis:                       2.296   Cond. No.                         1.22\n",
      "==============================================================================\n",
      "\n",
      "Warnings:\n",
      "[1] Standard Errors assume that the covariance matrix of the errors is correctly specified.\n"
     ]
    }
   ],
   "source": [
    "formula='s ~ r'\n",
    "est = smf.ols(formula, data=plan).fit()\n",
    "print(est.summary())"
   ]
  },
  {
   "cell_type": "code",
   "execution_count": 82,
   "metadata": {},
   "outputs": [],
   "source": [
    "# separa os dados em treino e teste\n",
    "train=plan.sample(frac=0.80,random_state=6) # poderia ser frac=0.5? sim ou nao?\n",
    "test=plan.drop(train.index)"
   ]
  },
  {
   "cell_type": "code",
   "execution_count": 83,
   "metadata": {},
   "outputs": [],
   "source": [
    "x_train=train[['r','m','v']]\n",
    "x_test=test[['r','m','v']]\n",
    "y_train=train[['s']]\n",
    "y_test=test[['s']]"
   ]
  },
  {
   "cell_type": "code",
   "execution_count": 84,
   "metadata": {},
   "outputs": [],
   "source": [
    "# define a rede neural Y\n",
    "clf_Y = MLPRegressor(solver='lbfgs',activation='tanh',alpha=1e-5,hidden_layer_sizes=(6),random_state=3)"
   ]
  },
  {
   "cell_type": "code",
   "execution_count": 85,
   "metadata": {},
   "outputs": [
    {
     "name": "stderr",
     "output_type": "stream",
     "text": [
      "C:\\Users\\thais\\Anaconda3\\lib\\site-packages\\sklearn\\neural_network\\multilayer_perceptron.py:1321: DataConversionWarning: A column-vector y was passed when a 1d array was expected. Please change the shape of y to (n_samples, ), for example using ravel().\n",
      "  y = column_or_1d(y, warn=True)\n"
     ]
    },
    {
     "data": {
      "text/plain": [
       "MLPRegressor(activation='tanh', alpha=1e-05, batch_size='auto', beta_1=0.9,\n",
       "             beta_2=0.999, early_stopping=False, epsilon=1e-08,\n",
       "             hidden_layer_sizes=6, learning_rate='constant',\n",
       "             learning_rate_init=0.001, max_iter=200, momentum=0.9,\n",
       "             n_iter_no_change=10, nesterovs_momentum=True, power_t=0.5,\n",
       "             random_state=3, shuffle=True, solver='lbfgs', tol=0.0001,\n",
       "             validation_fraction=0.1, verbose=False, warm_start=False)"
      ]
     },
     "execution_count": 85,
     "metadata": {},
     "output_type": "execute_result"
    }
   ],
   "source": [
    "# treina a rede neural Y\n",
    "clf_Y.fit(x_train, y_train)"
   ]
  },
  {
   "cell_type": "code",
   "execution_count": 86,
   "metadata": {},
   "outputs": [],
   "source": [
    "# usa a rede neural treina em calculos para treino e teste Y\n",
    "y_calc_train=clf_Y.predict(x_train)\n",
    "y_calc_test=clf_Y.predict(x_test)"
   ]
  },
  {
   "cell_type": "code",
   "execution_count": 88,
   "metadata": {},
   "outputs": [
    {
     "name": "stdout",
     "output_type": "stream",
     "text": [
      "             s\n",
      "3   156.471850\n",
      "9   351.193815\n",
      "10  351.133870\n",
      "20  512.637949\n",
      "26  472.030551\n",
      "================\n",
      "            0\n",
      "0  151.098428\n",
      "1  359.358920\n",
      "2  361.650445\n",
      "3  502.164978\n",
      "4  491.349282\n"
     ]
    }
   ],
   "source": [
    "print(y_test)\n",
    "print('================')\n",
    "print(pd.DataFrame(y_calc_test))"
   ]
  },
  {
   "cell_type": "code",
   "execution_count": 89,
   "metadata": {},
   "outputs": [
    {
     "name": "stdout",
     "output_type": "stream",
     "text": [
      "MSE teste= 137.8074954616507\n",
      "R^2 teste= 0.9910574028282705\n"
     ]
    }
   ],
   "source": [
    "mse=mean_squared_error(y_test,y_calc_test)\n",
    "print(\"MSE teste=\",mse)\n",
    "R2=r2_score(y_test,y_calc_test)\n",
    "print(\"R^2 teste=\",R2)"
   ]
  },
  {
   "cell_type": "code",
   "execution_count": null,
   "metadata": {},
   "outputs": [],
   "source": []
  }
 ],
 "metadata": {
  "kernelspec": {
   "display_name": "Python 3",
   "language": "python",
   "name": "python3"
  },
  "language_info": {
   "codemirror_mode": {
    "name": "ipython",
    "version": 3
   },
   "file_extension": ".py",
   "mimetype": "text/x-python",
   "name": "python",
   "nbconvert_exporter": "python",
   "pygments_lexer": "ipython3",
   "version": "3.7.4"
  }
 },
 "nbformat": 4,
 "nbformat_minor": 4
}
