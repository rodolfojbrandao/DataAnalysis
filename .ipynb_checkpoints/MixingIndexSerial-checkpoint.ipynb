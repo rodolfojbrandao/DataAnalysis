{
 "cells": [
  {
   "cell_type": "code",
   "execution_count": 1,
   "metadata": {},
   "outputs": [],
   "source": [
    "import os\n",
    "import numpy as np\n",
    "import pandas as pd\n",
    "import math\n",
    "from pandas import DataFrame"
   ]
  },
  {
   "cell_type": "code",
   "execution_count": null,
   "metadata": {},
   "outputs": [],
   "source": [
    "NF = 489 #number of files\n",
    "NP = 24763 #number of particles\n",
    "r1 = 0.002\n",
    "r2 = 0.002\n",
    "v1=(4/3*math.pi*r1*r1*r1)\n",
    "v2=(4/3*math.pi*r2*r2*r2)\n",
    "v = 0.03*0.03*0.03\n",
    "rx = 5\n",
    "ry = 5\n",
    "rz = 10\n",
    "tamanho = rx*ry*rz-1\n",
    "\n",
    "contador1=list()\n",
    "contador2=list()\n",
    "contador=list()\n",
    "cout1=list()\n",
    "posicaoX = np.zeros((NP,NF))\n",
    "posicaoY = np.zeros((NP,NF))\n",
    "posicaoZ = np.zeros((NP,NF))\n",
    "Tipo = np.zeros((NP,NF))\n",
    "contador_tipo1 = pd.DataFrame(np.zeros((tamanho,NF)))  # type: DataFrame\n",
    "contador_tipo2 = pd.DataFrame(np.zeros((tamanho,NF)))\n",
    "Volume = pd.DataFrame(np.zeros((tamanho,NF)))\n",
    "posicao_vetor = 1"
   ]
  },
  {
   "cell_type": "code",
   "execution_count": null,
   "metadata": {},
   "outputs": [],
   "source": [
    "path='/media/rodolfo/5A0819190818F5AB/DOUTORADO-SIMULACOES-COMPLETAS/CasosMisturados/08/dados'\n",
    "os.chdir(path)"
   ]
  },
  {
   "cell_type": "code",
   "execution_count": null,
   "metadata": {},
   "outputs": [],
   "source": [
    "for j in range (0,NF):\n",
    "    Dados = pd.read_csv('dados.{}.csv'.format(j))\n",
    "    Tipo[:, j] = Dados.iloc[:, 1].copy()\n",
    "    posicaoX[:, j] = Dados.iloc[:, 3].copy()\n",
    "    posicaoY[:, j] = Dados.iloc[:, 4].copy()\n",
    "    posicaoZ[:, j] = Dados.iloc[:, 5].copy()"
   ]
  },
  {
   "cell_type": "code",
   "execution_count": null,
   "metadata": {},
   "outputs": [],
   "source": [
    "posicaoX=pd.DataFrame(posicaoX)\n",
    "posicaoY=pd.DataFrame(posicaoY)\n",
    "posicaoZ=pd.DataFrame(posicaoZ)\n",
    "Tipo=pd.DataFrame(Tipo)\n",
    "\n",
    "max_x = float(posicaoX.iloc[:,[1]].max())\n",
    "max_y = float(posicaoY.iloc[:,[1]].max())\n",
    "max_z = float(posicaoZ.iloc[:,[1]].max())\n",
    "min_x = float(posicaoX.iloc[:,[1]].min())\n",
    "min_y = float(posicaoY.iloc[:,[1]].min())\n",
    "min_z = float(posicaoZ.iloc[:,[1]].min())\n",
    "\n",
    "gradeamentoX = (abs(max_x) + abs(min_x)) / rx\n",
    "gradeamentoY = (abs(max_y) + abs(min_y)) / ry\n",
    "gradeamentoZ = (abs(max_z) + abs(min_z)) / rz\n",
    "\n",
    "InferiorX=float(posicaoX.iloc[:,[1]].min())\n",
    "InferiorY=float(posicaoY.iloc[:,[1]].min())\n",
    "InferiorZ=float(posicaoZ.iloc[:,[1]].min())"
   ]
  },
  {
   "cell_type": "code",
   "execution_count": null,
   "metadata": {},
   "outputs": [],
   "source": [
    "for m in range(0,NF):\n",
    "    p=0\n",
    "    q=0,\n",
    "    concluido = m/NF*100\n",
    "    print(concluido)\n",
    "    for n in range(1, len(posicaoX)):\n",
    "        px = math.floor((posicaoX.iloc[n,m]-min_x)/gradeamentoX)\n",
    "        py = math.floor((posicaoY.iloc[n,m]-min_y)/gradeamentoY)\n",
    "        pz = math.floor((posicaoZ.iloc[n,m]-min_z)/gradeamentoZ)\n",
    "        posicao_vetor = -31+px+5*py+25*pz\n",
    "\n",
    "        if Tipo.iloc[n,m]<1.5:\n",
    "            contador_tipo1.iloc[posicao_vetor,m] = contador_tipo1.iloc[posicao_vetor,m]+1\n",
    "        else:\n",
    "            contador_tipo2.iloc[posicao_vetor, m] = contador_tipo2.iloc[posicao_vetor, m] + 1\n",
    "Volume = contador_tipo1*v1/v*100+contador_tipo2*v2/v*100"
   ]
  },
  {
   "cell_type": "code",
   "execution_count": null,
   "metadata": {},
   "outputs": [],
   "source": [
    "for n in range(0, len(Volume)):\n",
    "    if Volume.iloc[n,NF-1]>5:\n",
    "        cout1.append((contador_tipo1.iloc[n,:]*v1)/((contador_tipo1.iloc[n,:]*v1)+(contador_tipo2.iloc[n,:]*v2)))"
   ]
  },
  {
   "cell_type": "code",
   "execution_count": null,
   "metadata": {},
   "outputs": [],
   "source": [
    "cout1=pd.DataFrame(cout1)\n",
    "indice=pd.DataFrame(cout1.std())\n",
    "indice.to_csv('dados08.csv')"
   ]
  }
 ],
 "metadata": {
  "kernelspec": {
   "display_name": "Python 3",
   "language": "python",
   "name": "python3"
  },
  "language_info": {
   "codemirror_mode": {
    "name": "ipython",
    "version": 3
   },
   "file_extension": ".py",
   "mimetype": "text/x-python",
   "name": "python",
   "nbconvert_exporter": "python",
   "pygments_lexer": "ipython3",
   "version": "3.7.3"
  }
 },
 "nbformat": 4,
 "nbformat_minor": 4
}
