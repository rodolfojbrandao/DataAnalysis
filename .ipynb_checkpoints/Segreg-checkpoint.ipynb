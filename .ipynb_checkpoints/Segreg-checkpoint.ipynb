{
 "cells": [
  {
   "cell_type": "code",
   "execution_count": 55,
   "metadata": {},
   "outputs": [],
   "source": [
    "import statsmodels.api as sm\n",
    "from pandas import DataFrame\n",
    "import numpy as np\n",
    "import pandas as pd\n",
    "import matplotlib.pyplot as plt\n",
    "import os\n",
    "import math\n",
    "from mpl_toolkits.mplot3d import Axes3D\n",
    "import matplotlib.pyplot as plt\n",
    "from matplotlib import cm\n",
    "from matplotlib.ticker import LinearLocator, FormatStrFormatter\n",
    "%matplotlib inline"
   ]
  },
  {
   "cell_type": "code",
   "execution_count": 56,
   "metadata": {},
   "outputs": [
    {
     "name": "stdout",
     "output_type": "stream",
     "text": [
      "Cloning into 'Data'...\n",
      "warning: redirecting to https://github.com/rodolfojbrandao/Data/\n",
      "remote: Enumerating objects: 262, done.\u001b[K\n",
      "remote: Counting objects: 100% (262/262), done.\u001b[K\n",
      "remote: Compressing objects: 100% (243/243), done.\u001b[K\n",
      "remote: Total 262 (delta 24), reused 255 (delta 17), pack-reused 0\u001b[K\n",
      "Receiving objects: 100% (262/262), 2.31 MiB | 1.58 MiB/s, done.\n",
      "Resolving deltas: 100% (24/24), done.\n",
      "/home/rodolfo/GitHub/DataAnalysis/Data/Segregacao/Data/Segregacao/Data/Segregacao/Data/Segregacao/Data/Segregacao/Data\n",
      "/home/rodolfo/GitHub/DataAnalysis/Data/Segregacao/Data/Segregacao/Data/Segregacao/Data/Segregacao/Data/Segregacao/Data/Segregacao\n",
      " CasosMisturados        Segregacao-efeito-combinado-tamanho-densidade\n",
      " k.csv\t\t       'Segregação-efeito-do equipamento-paredes-terminais'\n",
      " k.xlsx\t\t        Segregacao-tamanho\n",
      " RD.csv\t\t        sig-inf.csv\n",
      " RT.csv\t\t        sig-inf.xlsx\n",
      " Segregacao-densidade\n"
     ]
    }
   ],
   "source": [
    "!git clone http://github.com/rodolfojbrandao/Data\n",
    "%cd Data\n",
    "%cd Segregacao\n",
    "!ls"
   ]
  },
  {
   "cell_type": "code",
   "execution_count": 57,
   "metadata": {},
   "outputs": [
    {
     "name": "stdout",
     "output_type": "stream",
     "text": [
      "        x1       x2       k\n",
      "0  1.00001  0.10001  0.3645\n",
      "1  1.00001  0.20001  0.3026\n",
      "2  1.00001  0.30001  0.2747\n",
      "3  1.00001  0.40001  0.2562\n",
      "4  1.00001  0.50001  0.2645\n",
      "   Raio P1 (mm)  Raio P2 (mm)  Densidade P1 (kg/m³)  Densidade P2 (kg/m³)  \\\n",
      "0        3.0001        3.0001            10000.0001             1000.0001   \n",
      "1        3.0001        3.0001            10000.0001             2000.0001   \n",
      "2        3.0001        3.0001            10000.0001             3000.0001   \n",
      "3        3.0001        3.0001            10000.0001             4000.0001   \n",
      "4        3.0001        3.0001            10000.0001             5000.0001   \n",
      "\n",
      "       x1      x2     sig       k      r²  \n",
      "0  1.0001  0.1001  0.2827  0.3645  0.9192  \n",
      "1  1.0001  0.2001  0.2414  0.3026  0.9255  \n",
      "2  1.0001  0.3001  0.1985  0.2747  0.9551  \n",
      "3  1.0001  0.4001  0.1982  0.2562  0.9520  \n",
      "4  1.0001  0.5001  0.1779  0.2645  0.9347  \n",
      "   Raio P1 (mm)  Raio P2 (mm)  Densidade P1 (kg/m³)  Densidade P2 (kg/m³)  \\\n",
      "0        3.0001        0.3001            10000.0001            10000.0001   \n",
      "1        3.0001        0.6001            10000.0001            10000.0001   \n",
      "2        3.0001        0.9001            10000.0001            10000.0001   \n",
      "3        3.0001        1.2001            10000.0001            10000.0001   \n",
      "4        3.0001        1.5001            10000.0001            10000.0001   \n",
      "\n",
      "       x1      x2     sig       k      r²  \n",
      "0  0.1001  1.0001  0.1217  0.1468  0.9217  \n",
      "1  0.2001  1.0001  0.1499  0.2015  0.8423  \n",
      "2  0.3001  1.0001  0.2100  0.2857  0.8602  \n",
      "3  0.4001  1.0001  0.2221  0.2671  0.9231  \n",
      "4  0.5001  1.0001  0.2348  0.3209  0.8464  \n"
     ]
    }
   ],
   "source": [
    "Dados = pd.read_csv('k.csv')\n",
    "RD = pd.read_csv('RD.csv')\n",
    "RT = pd.read_csv('RT.csv')\n",
    "print(Dados.head())\n",
    "print(RD.head())\n",
    "print(RT.head())\n",
    "#RT x1\n",
    "#RD x2"
   ]
  },
  {
   "cell_type": "code",
   "execution_count": 58,
   "metadata": {},
   "outputs": [],
   "source": [
    "X1 = Dados['x1']\n",
    "X2 = Dados['x2']\n",
    "X=Dados[['x1','x2']]\n",
    "Y = Dados['k']"
   ]
  },
  {
   "cell_type": "code",
   "execution_count": 59,
   "metadata": {},
   "outputs": [
    {
     "data": {
      "image/png": "[encoded data removed]",
      "text/plain": [
       "<Figure size 432x288 with 1 Axes>"
      ]
     },
     "metadata": {
      "needs_background": "light"
     },
     "output_type": "display_data"
    }
   ],
   "source": [
    "plt.scatter(X1, Y)\n",
    "plt.scatter(X2, Y)\n",
    "plt.show()"
   ]
  },
  {
   "cell_type": "code",
   "execution_count": 60,
   "metadata": {},
   "outputs": [],
   "source": [
    "X = sm.add_constant(X)\n",
    "model = sm.OLS(Y, X).fit()\n",
    "predictions = model.predict(X)"
   ]
  },
  {
   "cell_type": "code",
   "execution_count": 61,
   "metadata": {},
   "outputs": [
    {
     "name": "stdout",
     "output_type": "stream",
     "text": [
      "                            OLS Regression Results                            \n",
      "==============================================================================\n",
      "Dep. Variable:                      k   R-squared:                       0.294\n",
      "Model:                            OLS   Adj. R-squared:                  0.260\n",
      "Method:                 Least Squares   F-statistic:                     8.725\n",
      "Date:                Wed, 09 Oct 2019   Prob (F-statistic):           0.000678\n",
      "Time:                        23:19:59   Log-Likelihood:                 59.422\n",
      "No. Observations:                  45   AIC:                            -112.8\n",
      "Df Residuals:                      42   BIC:                            -107.4\n",
      "Df Model:                           2                                         \n",
      "Covariance Type:            nonrobust                                         \n",
      "==============================================================================\n",
      "                 coef    std err          t      P>|t|      [0.025      0.975]\n",
      "------------------------------------------------------------------------------\n",
      "const          0.3533      0.047      7.447      0.000       0.258       0.449\n",
      "x1            -0.0256      0.037     -0.691      0.493      -0.101       0.049\n",
      "x2            -0.1515      0.037     -4.083      0.000      -0.226      -0.077\n",
      "==============================================================================\n",
      "Omnibus:                        8.492   Durbin-Watson:                   1.158\n",
      "Prob(Omnibus):                  0.014   Jarque-Bera (JB):                7.656\n",
      "Skew:                           0.817   Prob(JB):                       0.0217\n",
      "Kurtosis:                       4.188   Cond. No.                         9.45\n",
      "==============================================================================\n",
      "\n",
      "Warnings:\n",
      "[1] Standard Errors assume that the covariance matrix of the errors is correctly specified.\n"
     ]
    }
   ],
   "source": [
    "print_model = model.summary()\n",
    "print(print_model)"
   ]
  },
  {
   "cell_type": "code",
   "execution_count": 62,
   "metadata": {},
   "outputs": [
    {
     "data": {
      "image/png": "[encoded data removed]",
      "text/plain": [
       "<Figure size 432x288 with 1 Axes>"
      ]
     },
     "metadata": {
      "needs_background": "light"
     },
     "output_type": "display_data"
    }
   ],
   "source": [
    "fig = plt.figure()\n",
    "ax = fig.add_subplot(111, projection='3d')\n",
    "ax.scatter(X1, X2, Y, c='r', marker='o')\n",
    "ax.set_xlabel('X1')\n",
    "ax.set_ylabel('X2')\n",
    "ax.set_zlabel('k')\n",
    "plt.show()"
   ]
  },
  {
   "cell_type": "code",
   "execution_count": 63,
   "metadata": {},
   "outputs": [
    {
     "name": "stderr",
     "output_type": "stream",
     "text": [
      "Exception ignored in: <function Comm.__del__ at 0x7fdcb01068c8>\n",
      "Traceback (most recent call last):\n",
      "  File \"/home/rodolfo/anaconda3/lib/python3.7/site-packages/ipykernel/comm/comm.py\", line 76, in __del__\n",
      "    self.close()\n",
      "  File \"/home/rodolfo/anaconda3/lib/python3.7/site-packages/ipykernel/comm/comm.py\", line 116, in close\n",
      "    self.kernel.comm_manager.unregister_comm(self)\n",
      "  File \"/home/rodolfo/anaconda3/lib/python3.7/site-packages/ipykernel/comm/manager.py\", line 56, in unregister_comm\n",
      "    comm = self.comms.pop(comm.comm_id)\n",
      "KeyError: ('3bc5cf5350de471e8363b1cb9beb92d9',)\n"
     ]
    },
    {
     "data": {
      "image/png": "[encoded data removed]",
      "text/plain": [
       "<Figure size 432x288 with 1 Axes>"
      ]
     },
     "metadata": {
      "needs_background": "light"
     },
     "output_type": "display_data"
    }
   ],
   "source": [
    "X_RT = RT['x1']\n",
    "Y_RT = RT['k']\n",
    "#RT x1\n",
    "plt.scatter(X_RT, Y_RT)\n",
    "plt.show()"
   ]
  },
  {
   "cell_type": "code",
   "execution_count": 64,
   "metadata": {},
   "outputs": [],
   "source": [
    "X_RT = sm.add_constant(X_RT)\n",
    "model_RT = sm.OLS(Y_RT, X_RT).fit()\n",
    "predictions_RT = model_RT.predict(X_RT)"
   ]
  },
  {
   "cell_type": "code",
   "execution_count": 70,
   "metadata": {},
   "outputs": [
    {
     "name": "stdout",
     "output_type": "stream",
     "text": [
      "                            OLS Regression Results                            \n",
      "==============================================================================\n",
      "Dep. Variable:                      k   R-squared:                       0.002\n",
      "Model:                            OLS   Adj. R-squared:                 -0.123\n",
      "Method:                 Least Squares   F-statistic:                   0.01638\n",
      "Date:                Wed, 09 Oct 2019   Prob (F-statistic):              0.901\n",
      "Time:                        23:20:54   Log-Likelihood:                 13.626\n",
      "No. Observations:                  10   AIC:                            -23.25\n",
      "Df Residuals:                       8   BIC:                            -22.65\n",
      "Df Model:                           1                                         \n",
      "Covariance Type:            nonrobust                                         \n",
      "==============================================================================\n",
      "                 coef    std err          t      P>|t|      [0.025      0.975]\n",
      "------------------------------------------------------------------------------\n",
      "const          0.2471      0.047      5.223      0.001       0.138       0.356\n",
      "x1            -0.0098      0.076     -0.128      0.901      -0.186       0.166\n",
      "==============================================================================\n",
      "Omnibus:                        1.979   Durbin-Watson:                   0.547\n",
      "Prob(Omnibus):                  0.372   Jarque-Bera (JB):                0.832\n",
      "Skew:                          -0.112   Prob(JB):                        0.660\n",
      "Kurtosis:                       1.604   Cond. No.                         4.61\n",
      "==============================================================================\n",
      "\n",
      "Warnings:\n",
      "[1] Standard Errors assume that the covariance matrix of the errors is correctly specified.\n"
     ]
    }
   ],
   "source": [
    "print_model_RT = model_RT.summary()\n",
    "print(print_model_RT)"
   ]
  },
  {
   "cell_type": "code",
   "execution_count": 66,
   "metadata": {},
   "outputs": [
    {
     "data": {
      "image/png": "[encoded data removed]",
      "text/plain": [
       "<Figure size 432x288 with 1 Axes>"
      ]
     },
     "metadata": {
      "needs_background": "light"
     },
     "output_type": "display_data"
    }
   ],
   "source": [
    "X_RD = RD['x2']\n",
    "Y_RD = RD['k']\n",
    "#RD x2\n",
    "plt.scatter(X_RD, Y_RD)\n",
    "plt.show()"
   ]
  },
  {
   "cell_type": "code",
   "execution_count": 67,
   "metadata": {},
   "outputs": [],
   "source": [
    "X_RD = sm.add_constant(X_RD)\n",
    "model_RD = sm.OLS(Y_RD, X_RD).fit()\n",
    "predictions_RD = model_RD.predict(X_RD)"
   ]
  },
  {
   "cell_type": "code",
   "execution_count": 69,
   "metadata": {},
   "outputs": [
    {
     "name": "stdout",
     "output_type": "stream",
     "text": [
      "                            OLS Regression Results                            \n",
      "==============================================================================\n",
      "Dep. Variable:                      k   R-squared:                       0.912\n",
      "Model:                            OLS   Adj. R-squared:                  0.902\n",
      "Method:                 Least Squares   F-statistic:                     83.41\n",
      "Date:                Wed, 09 Oct 2019   Prob (F-statistic):           1.66e-05\n",
      "Time:                        23:20:39   Log-Likelihood:                 27.284\n",
      "No. Observations:                  10   AIC:                            -50.57\n",
      "Df Residuals:                       8   BIC:                            -49.96\n",
      "Df Model:                           1                                         \n",
      "Covariance Type:            nonrobust                                         \n",
      "==============================================================================\n",
      "                 coef    std err          t      P>|t|      [0.025      0.975]\n",
      "------------------------------------------------------------------------------\n",
      "const          0.3476      0.012     28.792      0.000       0.320       0.375\n",
      "x2            -0.1777      0.019     -9.133      0.000      -0.223      -0.133\n",
      "==============================================================================\n",
      "Omnibus:                        2.538   Durbin-Watson:                   1.414\n",
      "Prob(Omnibus):                  0.281   Jarque-Bera (JB):                0.977\n",
      "Skew:                           0.766   Prob(JB):                        0.614\n",
      "Kurtosis:                       2.991   Cond. No.                         4.61\n",
      "==============================================================================\n",
      "\n",
      "Warnings:\n",
      "[1] Standard Errors assume that the covariance matrix of the errors is correctly specified.\n"
     ]
    }
   ],
   "source": [
    "print_model_RD = model_RD.summary()\n",
    "print(print_model_RD)"
   ]
  }
 ],
 "metadata": {
  "kernelspec": {
   "display_name": "Python 3",
   "language": "python",
   "name": "python3"
  },
  "language_info": {
   "codemirror_mode": {
    "name": "ipython",
    "version": 3
   },
   "file_extension": ".py",
   "mimetype": "text/x-python",
   "name": "python",
   "nbconvert_exporter": "python",
   "pygments_lexer": "ipython3",
   "version": "3.7.3"
  }
 },
 "nbformat": 4,
 "nbformat_minor": 4
}
