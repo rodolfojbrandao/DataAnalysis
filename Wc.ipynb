{
 "cells": [
  {
   "cell_type": "code",
   "execution_count": null,
   "metadata": {},
   "outputs": [],
   "source": [
    "import os\n",
    "import numpy as np\n",
    "import pandas as pd\n",
    "import math\n",
    "from pandas import DataFrame"
   ]
  },
  {
   "cell_type": "code",
   "execution_count": null,
   "metadata": {},
   "outputs": [],
   "source": [
    "NF = 683 #number of files\n",
    "NP = 10500 #number of particles\n",
    "\n",
    "vX = np.zeros((NP,NF))\n",
    "vY = np.zeros((NP,NF))\n",
    "vZ = np.zeros((NP,NF))"
   ]
  },
  {
   "cell_type": "code",
   "execution_count": null,
   "metadata": {},
   "outputs": [],
   "source": [
    "path='/home/rodolfo/Documents/regimes/45/dados'\n",
    "os.chdir(path)"
   ]
  },
  {
   "cell_type": "code",
   "execution_count": null,
   "metadata": {},
   "outputs": [],
   "source": [
    "for j in range (0,NF):\n",
    "    Dados = pd.read_csv('dados.{}.csv'.format(j))\n",
    "    concluido=j/NF*100\n",
    "    print(concluido)\n",
    "    print(j)\n",
    "    vX[:, j] = Dados.iloc[:, 2].copy()\n",
    "    vY[:, j] = Dados.iloc[:, 3].copy()\n",
    "    vZ[:, j] = Dados.iloc[:, 4].copy()"
   ]
  },
  {
   "cell_type": "code",
   "execution_count": null,
   "metadata": {},
   "outputs": [],
   "source": [
    "vX=pd.DataFrame(vX)\n",
    "vY=pd.DataFrame(vY)\n",
    "vZ=pd.DataFrame(vZ)\n",
    "\n",
    "v=np.sqrt(np.square(vX)+np.square(vY)+np.square(vZ))"
   ]
  },
  {
   "cell_type": "code",
   "execution_count": null,
   "metadata": {},
   "outputs": [],
   "source": [
    "V=v.mean(axis = 0)\n",
    "V  = pd.DataFrame(V)\n",
    "V.to_csv('Velocidade45.csv')\n",
    "print(type(V))"
   ]
  }
 ],
 "metadata": {
  "kernelspec": {
   "display_name": "Python 3",
   "language": "python",
   "name": "python3"
  },
  "language_info": {
   "codemirror_mode": {
    "name": "ipython",
    "version": 3
   },
   "file_extension": ".py",
   "mimetype": "text/x-python",
   "name": "python",
   "nbconvert_exporter": "python",
   "pygments_lexer": "ipython3",
   "version": "3.7.3"
  }
 },
 "nbformat": 4,
 "nbformat_minor": 4
}
