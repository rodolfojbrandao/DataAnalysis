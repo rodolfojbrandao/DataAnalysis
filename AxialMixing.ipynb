{
 "cells": [
  {
   "cell_type": "code",
   "execution_count": null,
   "metadata": {},
   "outputs": [],
   "source": [
    "import os\n",
    "import numpy as np\n",
    "import pandas as pd\n",
    "import math\n",
    "from pandas import DataFrame"
   ]
  },
  {
   "cell_type": "code",
   "execution_count": null,
   "metadata": {},
   "outputs": [],
   "source": [
    "NF = 494 #number of files\n",
    "NP = 147465 #number of particles\n",
    "\n",
    "r1 = 0.0009\n",
    "r2 = 0.0021\n",
    "\n",
    "v1=(4/3*math.pi*r1*r1*r1)\n",
    "v2=(4/3*math.pi*r2*r2*r2)\n",
    "\n",
    "rz = 10\n",
    "tamanho = rz\n",
    "\n",
    "cout1=list()\n",
    "posicaoZ = np.zeros((NP,NF))\n",
    "Tipo = np.zeros((NP,NF))\n",
    "contador_tipo1 = pd.DataFrame(np.zeros((tamanho,NF)))  # type: DataFrame\n",
    "contador_tipo2 = pd.DataFrame(np.zeros((tamanho,NF)))"
   ]
  },
  {
   "cell_type": "code",
   "execution_count": null,
   "metadata": {},
   "outputs": [],
   "source": [
    "path='/media/rodolfo/5A0819190818F5AB/Doutorado/numerico/PCC-efeito-combinado-tamanho-densidade/07/dados'\n",
    "os.chdir(path)"
   ]
  },
  {
   "cell_type": "code",
   "execution_count": null,
   "metadata": {},
   "outputs": [],
   "source": [
    "for j in range (0,NF):\n",
    "    Dados = pd.read_csv('dados.{}.csv'.format(j))\n",
    "    Tipo[:, j] = Dados.iloc[:, 1].copy()\n",
    "    posicaoZ[:, j] = Dados.iloc[:, 8].copy()"
   ]
  },
  {
   "cell_type": "code",
   "execution_count": null,
   "metadata": {},
   "outputs": [],
   "source": [
    "posicaoZ=pd.DataFrame(posicaoZ)\n",
    "Tipo=pd.DataFrame(Tipo)\n",
    "\n",
    "InferiorZ=float(posicaoZ.iloc[:,[1]].min())\n",
    "SuperiorZ=float(posicaoZ.iloc[:,[1]].max())\n",
    "\n",
    "gradeamentoZ = (abs(SuperiorZ) + abs(InferiorZ)) / rz"
   ]
  },
  {
   "cell_type": "code",
   "execution_count": null,
   "metadata": {},
   "outputs": [],
   "source": [
    "for m in range(0,NF):\n",
    "    concluido = m/NF*100\n",
    "    print(concluido)\n",
    "    for n in range(1, len(posicaoZ)):\n",
    "        pz = math.floor((posicaoZ.iloc[n,m]-InferiorZ)/gradeamentoZ)\n",
    "\n",
    "        if Tipo.iloc[n,m]<1.5:\n",
    "            contador_tipo1.iloc[pz,m] = contador_tipo1.iloc[pz,m]+1\n",
    "        else:\n",
    "            contador_tipo2.iloc[pz, m] = contador_tipo2.iloc[pz, m] + 1"
   ]
  },
  {
   "cell_type": "code",
   "execution_count": null,
   "metadata": {},
   "outputs": [],
   "source": [
    "for n in range(0, len(contador_tipo1)):\n",
    "        cout1.append((contador_tipo1.iloc[n,:]*v1)/((contador_tipo1.iloc[n,:]*v1)+(contador_tipo2.iloc[n,:]*v2)))"
   ]
  },
  {
   "cell_type": "code",
   "execution_count": null,
   "metadata": {},
   "outputs": [],
   "source": [
    "cout1=pd.DataFrame(cout1)\n",
    "cout1.to_csv('axialTD07.csv')"
   ]
  }
 ],
 "metadata": {
  "kernelspec": {
   "display_name": "Python 3",
   "language": "python",
   "name": "python3"
  },
  "language_info": {
   "codemirror_mode": {
    "name": "ipython",
    "version": 3
   },
   "file_extension": ".py",
   "mimetype": "text/x-python",
   "name": "python",
   "nbconvert_exporter": "python",
   "pygments_lexer": "ipython3",
   "version": "3.7.3"
  }
 },
 "nbformat": 4,
 "nbformat_minor": 4
}
